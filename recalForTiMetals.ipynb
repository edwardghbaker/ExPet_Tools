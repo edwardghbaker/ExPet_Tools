{
 "cells": [
  {
   "cell_type": "code",
   "execution_count": 1,
   "metadata": {},
   "outputs": [
    {
     "ename": "ValueError",
     "evalue": "The truth value of an array with more than one element is ambiguous. Use a.any() or a.all()",
     "output_type": "error",
     "traceback": [
      "\u001b[1;31m---------------------------------------------------------------------------\u001b[0m",
      "\u001b[1;31mValueError\u001b[0m                                Traceback (most recent call last)",
      "Cell \u001b[1;32mIn[1], line 1\u001b[0m\n\u001b[1;32m----> 1\u001b[0m \u001b[39mfrom\u001b[39;00m \u001b[39mChemCal_v2\u001b[39;00m \u001b[39mimport\u001b[39;00m CC\n\u001b[0;32m      2\u001b[0m \u001b[39mimport\u001b[39;00m \u001b[39mnumpy\u001b[39;00m \u001b[39mas\u001b[39;00m \u001b[39mnp\u001b[39;00m \n\u001b[0;32m      3\u001b[0m \u001b[39mimport\u001b[39;00m \u001b[39mpandas\u001b[39;00m \u001b[39mas\u001b[39;00m \u001b[39mpd\u001b[39;00m\n",
      "File \u001b[1;32mc:\\Users\\User\\Documents\\GitHub\\ExPet_Tools\\ChemCal_v2.py:182\u001b[0m\n\u001b[0;32m    179\u001b[0m \u001b[39m#%%\u001b[39;00m\n\u001b[0;32m    181\u001b[0m \u001b[39mfor\u001b[39;00m c \u001b[39min\u001b[39;00m comps:\n\u001b[1;32m--> 182\u001b[0m     mass \u001b[39m=\u001b[39m CC(input_DF\u001b[39m=\u001b[39;49mHTi_HCr)\n\u001b[0;32m    183\u001b[0m     \u001b[39mprint\u001b[39m(mass\u001b[39m.\u001b[39mget_ox_wt())\n\u001b[0;32m    184\u001b[0m     \u001b[39mprint\u001b[39m(mass\u001b[39m.\u001b[39mget_wt())\n",
      "File \u001b[1;32mc:\\Users\\User\\Documents\\GitHub\\ExPet_Tools\\ChemCal_v2.py:56\u001b[0m, in \u001b[0;36mCC.__init__\u001b[1;34m(self, input_DF, FeCharge, imposeOxidation, OxStates)\u001b[0m\n\u001b[0;32m     54\u001b[0m     \u001b[39mself\u001b[39m\u001b[39m.\u001b[39mox_wt_DF \u001b[39m=\u001b[39m input_DF\n\u001b[0;32m     55\u001b[0m     \u001b[39mself\u001b[39m\u001b[39m.\u001b[39mat_DF \u001b[39m=\u001b[39m CC\u001b[39m.\u001b[39mox_wt2at(\u001b[39mself\u001b[39m)\n\u001b[1;32m---> 56\u001b[0m     \u001b[39mself\u001b[39m\u001b[39m.\u001b[39mwt_DF \u001b[39m=\u001b[39m CC\u001b[39m.\u001b[39;49mat2wt(\u001b[39mself\u001b[39;49m,atIndex\u001b[39m=\u001b[39;49m\u001b[39mself\u001b[39;49m\u001b[39m.\u001b[39;49mat_DF\u001b[39m.\u001b[39;49mindex,Atomic\u001b[39m=\u001b[39;49m\u001b[39mself\u001b[39;49m\u001b[39m.\u001b[39;49mat_DF[\u001b[39m'\u001b[39;49m\u001b[39mAt. \u001b[39;49m\u001b[39m%\u001b[39;49m\u001b[39m'\u001b[39;49m])\n\u001b[0;32m     59\u001b[0m \u001b[39melif\u001b[39;00m input_DF\u001b[39m.\u001b[39mcolumns[\u001b[39m0\u001b[39m] \u001b[39m==\u001b[39m \u001b[39m'\u001b[39m\u001b[39mAt. \u001b[39m\u001b[39m%\u001b[39m\u001b[39m'\u001b[39m:\n\u001b[0;32m     60\u001b[0m     \u001b[39mself\u001b[39m\u001b[39m.\u001b[39mat_DF \u001b[39m=\u001b[39m input_DF\n",
      "File \u001b[1;32mc:\\Users\\User\\Documents\\GitHub\\ExPet_Tools\\ChemCal_v2.py:116\u001b[0m, in \u001b[0;36mCC.at2wt\u001b[1;34m(self, atIndex, Atomic)\u001b[0m\n\u001b[0;32m    115\u001b[0m \u001b[39mdef\u001b[39;00m \u001b[39mat2wt\u001b[39m(\u001b[39mself\u001b[39m,atIndex\u001b[39m=\u001b[39m\u001b[39mNone\u001b[39;00m,Atomic\u001b[39m=\u001b[39m\u001b[39mNone\u001b[39;00m):\n\u001b[1;32m--> 116\u001b[0m     \u001b[39mif\u001b[39;00m atIndex \u001b[39m==\u001b[39m \u001b[39mNone\u001b[39;00m \u001b[39mor\u001b[39;00m Atomic \u001b[39m==\u001b[39m \u001b[39mNone\u001b[39;00m \u001b[39mor\u001b[39;00m \u001b[39mtype\u001b[39m(atIndex) \u001b[39m==\u001b[39m \u001b[39mNone\u001b[39;00m:\n\u001b[0;32m    117\u001b[0m         atIndex \u001b[39m=\u001b[39m \u001b[39mself\u001b[39m\u001b[39m.\u001b[39minput_DF\u001b[39m.\u001b[39mindex\n\u001b[0;32m    118\u001b[0m         Atomic \u001b[39m=\u001b[39m \u001b[39mself\u001b[39m\u001b[39m.\u001b[39minput_DF[\u001b[39m'\u001b[39m\u001b[39mAt. \u001b[39m\u001b[39m%\u001b[39m\u001b[39m'\u001b[39m]\n",
      "\u001b[1;31mValueError\u001b[0m: The truth value of an array with more than one element is ambiguous. Use a.any() or a.all()"
     ]
    }
   ],
   "source": [
    "from ChemCal_v2 import CC\n",
    "import numpy as np \n",
    "import pandas as pd"
   ]
  },
  {
   "cell_type": "code",
   "execution_count": null,
   "metadata": {},
   "outputs": [],
   "source": [
    "data = np.array([[45.03755385,21.21894177,8.964273931,20.85766182,1.960784314,1.960784314],\n",
    "[45.48347023,21.4290303,9.053029119,21.06417332,1.98019802,0.99009901],\n",
    "[45.48347023,21.4290303,9.053029119,21.06417332,0.99009901,1.98019802],\n",
    "[45.93830493,21.64332061,9.14355941,21.27481505,1,1]])\n",
    "\n",
    "HTi_HCr = pd.DataFrame(data=data[0,:],columns=['Ox. Wt. %'],index=['SiO2','Al2O3','MgO','CaO','TiO2','Cr2O3'])\n",
    "HTi_LCr = pd.DataFrame(data=data[1,:],columns=['Ox. Wt. %'],index=['SiO2','Al2O3','MgO','CaO','TiO2','Cr2O3'])\n",
    "LTi_HCr = pd.DataFrame(data=data[2,:],columns=['Ox. Wt. %'],index=['SiO2','Al2O3','MgO','CaO','TiO2','Cr2O3'])\n",
    "LTi_LCr = pd.DataFrame(data=data[3,:],columns=['Ox. Wt. %'],index=['SiO2','Al2O3','MgO','CaO','TiO2','Cr2O3'])"
   ]
  },
  {
   "cell_type": "code",
   "execution_count": null,
   "metadata": {},
   "outputs": [
    {
     "name": "stdout",
     "output_type": "stream",
     "text": [
      "Index(['At. %'], dtype='object')\n",
      "Index(['Si', 'Al', 'Mg', 'Ca', 'Ti', 'Cr', 'O'], dtype='object')\n"
     ]
    },
    {
     "ename": "TypeError",
     "evalue": "'NoneType' object is not iterable",
     "output_type": "error",
     "traceback": [
      "\u001b[1;31m---------------------------------------------------------------------------\u001b[0m",
      "\u001b[1;31mTypeError\u001b[0m                                 Traceback (most recent call last)",
      "Cell \u001b[1;32mIn[11], line 19\u001b[0m\n\u001b[0;32m     15\u001b[0m     log \u001b[39m=\u001b[39m pd\u001b[39m.\u001b[39mconcat([origionalMass,newMass,atomic],axis\u001b[39m=\u001b[39m\u001b[39m1\u001b[39m)\n\u001b[0;32m     17\u001b[0m     \u001b[39mreturn\u001b[39;00m D,log\n\u001b[1;32m---> 19\u001b[0m calTiMetPercent()\n",
      "Cell \u001b[1;32mIn[11], line 13\u001b[0m, in \u001b[0;36mcalTiMetPercent\u001b[1;34m(Valence, comp)\u001b[0m\n\u001b[0;32m     11\u001b[0m \u001b[39mprint\u001b[39m(atomic\u001b[39m.\u001b[39mcolumns)\n\u001b[0;32m     12\u001b[0m \u001b[39mprint\u001b[39m(atomic\u001b[39m.\u001b[39mindex)\n\u001b[1;32m---> 13\u001b[0m comvertToMass \u001b[39m=\u001b[39m CC(input_DF\u001b[39m=\u001b[39;49matomic)\n\u001b[0;32m     14\u001b[0m newMass \u001b[39m=\u001b[39m comvertToMass\u001b[39m.\u001b[39mget_wt()\n\u001b[0;32m     15\u001b[0m log \u001b[39m=\u001b[39m pd\u001b[39m.\u001b[39mconcat([origionalMass,newMass,atomic],axis\u001b[39m=\u001b[39m\u001b[39m1\u001b[39m)\n",
      "File \u001b[1;32mc:\\Users\\User\\Documents\\GitHub\\ExPet_Tools\\ChemCal_v2.py:61\u001b[0m, in \u001b[0;36mCC.__init__\u001b[1;34m(self, input_DF, FeCharge, imposeOxidation, OxStates)\u001b[0m\n\u001b[0;32m     59\u001b[0m \u001b[39melif\u001b[39;00m input_DF\u001b[39m.\u001b[39mcolumns[\u001b[39m0\u001b[39m] \u001b[39m==\u001b[39m \u001b[39m'\u001b[39m\u001b[39mAt. \u001b[39m\u001b[39m%\u001b[39m\u001b[39m'\u001b[39m:\n\u001b[0;32m     60\u001b[0m     \u001b[39mself\u001b[39m\u001b[39m.\u001b[39mat_DF \u001b[39m=\u001b[39m input_DF\n\u001b[1;32m---> 61\u001b[0m     \u001b[39mself\u001b[39m\u001b[39m.\u001b[39mwt_DF \u001b[39m=\u001b[39m CC\u001b[39m.\u001b[39;49mat2wt(\u001b[39mself\u001b[39;49m)\n\u001b[0;32m     62\u001b[0m     \u001b[39mself\u001b[39m\u001b[39m.\u001b[39mox_wt_DF \u001b[39m=\u001b[39m CC\u001b[39m.\u001b[39mat2ox_wt(\u001b[39mself\u001b[39m)\n",
      "File \u001b[1;32mc:\\Users\\User\\Documents\\GitHub\\ExPet_Tools\\ChemCal_v2.py:120\u001b[0m, in \u001b[0;36mCC.at2wt\u001b[1;34m(self, atIndex, Atomic)\u001b[0m\n\u001b[0;32m    115\u001b[0m \u001b[39mdef\u001b[39;00m \u001b[39mat2wt\u001b[39m(\u001b[39mself\u001b[39m,atIndex\u001b[39m=\u001b[39m\u001b[39mNone\u001b[39;00m,Atomic\u001b[39m=\u001b[39m\u001b[39mNone\u001b[39;00m):\n\u001b[0;32m    116\u001b[0m     \u001b[39m# if atIndex == None or Atomic == None or type(atIndex) == None:\u001b[39;00m\n\u001b[0;32m    117\u001b[0m     \u001b[39m#     atIndex = self.input_DF.index\u001b[39;00m\n\u001b[0;32m    118\u001b[0m     \u001b[39m#     Atomic = self.input_DF['At. %']\u001b[39;00m\n\u001b[0;32m    119\u001b[0m     weight \u001b[39m=\u001b[39m []\n\u001b[1;32m--> 120\u001b[0m     \u001b[39mfor\u001b[39;00m i,j \u001b[39min\u001b[39;00m \u001b[39menumerate\u001b[39m(atIndex):\n\u001b[0;32m    121\u001b[0m         weight\u001b[39m.\u001b[39mappend(Atomic[i]\u001b[39m*\u001b[39mFormula(j)\u001b[39m.\u001b[39mmass)\n\u001b[0;32m    122\u001b[0m     weight \u001b[39m=\u001b[39m np\u001b[39m.\u001b[39marray(weight)  \n",
      "\u001b[1;31mTypeError\u001b[0m: 'NoneType' object is not iterable"
     ]
    }
   ],
   "source": [
    "\n",
    "def calTiMetPercent(Valence=3.5,comp=HTi_HCr):\n",
    "    masses = CC(input_DF=HTi_HCr)\n",
    "    atomic = masses.get_at()\n",
    "    origionalMass = CC(input_DF=HTi_HCr).get_wt()\n",
    "\n",
    "    A = atomic.loc['Cr'].values[0]\n",
    "    C = atomic.loc['Ti'].values[0]\n",
    "    \n",
    "    D = A + ((4-Valence)*C)/Valence # D is now the atomic % of Ti that needs to be added to the mix to make it the correct valence.\n",
    "    atomic.loc['Ti'] += D\n",
    "    print(atomic.columns)\n",
    "    print(atomic.index)\n",
    "    comvertToMass = CC(input_DF=atomic)\n",
    "    newMass = comvertToMass.get_wt()\n",
    "    log = pd.concat([origionalMass,newMass,atomic],axis=1)\n",
    "\n",
    "    return D,log\n",
    "\n",
    "calTiMetPercent()"
   ]
  },
  {
   "cell_type": "code",
   "execution_count": null,
   "metadata": {},
   "outputs": [],
   "source": []
  }
 ],
 "metadata": {
  "kernelspec": {
   "display_name": "Python 3",
   "language": "python",
   "name": "python3"
  },
  "language_info": {
   "codemirror_mode": {
    "name": "ipython",
    "version": 3
   },
   "file_extension": ".py",
   "mimetype": "text/x-python",
   "name": "python",
   "nbconvert_exporter": "python",
   "pygments_lexer": "ipython3",
   "version": "3.11.1"
  },
  "orig_nbformat": 4
 },
 "nbformat": 4,
 "nbformat_minor": 2
}
