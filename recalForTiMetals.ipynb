{
 "cells": [
  {
   "cell_type": "code",
   "execution_count": 1,
   "metadata": {},
   "outputs": [],
   "source": [
    "from ChemCal_v2 import CC\n",
    "import numpy as np \n",
    "import pandas as pd"
   ]
  },
  {
   "cell_type": "code",
   "execution_count": 2,
   "metadata": {},
   "outputs": [],
   "source": [
    "data = np.array([[45.03755385,21.21894177,8.964273931,20.85766182,1.960784314,1.960784314],\n",
    "[45.48347023,21.4290303,9.053029119,21.06417332,1.98019802,0.99009901],\n",
    "[45.48347023,21.4290303,9.053029119,21.06417332,0.99009901,1.98019802],\n",
    "[45.93830493,21.64332061,9.14355941,21.27481505,1,1]])\n",
    "\n",
    "HTi_HCr = pd.DataFrame(data=data[0,:],columns=['Ox. Wt. %'],index=['SiO2','Al2O3','MgO','CaO','TiO2','Cr2O3'])\n",
    "HTi_LCr = pd.DataFrame(data=data[1,:],columns=['Ox. Wt. %'],index=['SiO2','Al2O3','MgO','CaO','TiO2','Cr2O3'])\n",
    "LTi_HCr = pd.DataFrame(data=data[2,:],columns=['Ox. Wt. %'],index=['SiO2','Al2O3','MgO','CaO','TiO2','Cr2O3'])\n",
    "LTi_LCr = pd.DataFrame(data=data[3,:],columns=['Ox. Wt. %'],index=['SiO2','Al2O3','MgO','CaO','TiO2','Cr2O3'])"
   ]
  },
  {
   "cell_type": "code",
   "execution_count": 6,
   "metadata": {},
   "outputs": [],
   "source": [
    "def calTiMetPercent(Valence=3.5,comp=HTi_HCr):\n",
    "    '''\n",
    "    Inputs:\n",
    "    Valence: Float, 0-4, The valence of the Ti final average\n",
    "    comp: DataFrame, The composition of the sample, must be in Ox. Wt. % format.\n",
    "    \n",
    "    Outputs:\n",
    "    D: Float, The atomic % of Ti that needs to be added to the mix to make it the correct valence.\n",
    "    log: DataFrame, The log of the original composition, the new composition, and the new atomic %.\n",
    "    TitoAdd_percent: Float, The mass % of Ti that needs to be added to the mix to make it the correct valence.\n",
    "\n",
    "    \n",
    "    '''\n",
    "    masses = CC(input_DF=comp)\n",
    "    atomic = masses.get_at()\n",
    "    origionalMass = masses.get_wt()\n",
    "    A = atomic.loc['Cr'].values[0]\n",
    "    C = atomic.loc['Ti'].values[0]\n",
    "    \n",
    "    D = A + ((4-Valence)*C)/Valence # D is now the atomic % of Ti that needs to be added to the mix to make it the correct valence.\n",
    "    atomic.loc['Ti'] += D\n",
    "\n",
    "    comvertToMass = CC(input_DF=atomic)\n",
    "    newMass = comvertToMass.get_wt()\n",
    "    log = pd.concat([origionalMass,newMass,atomic],axis=1)\n",
    "    TitoAdd_percent = newMass.loc['Ti'].values[0] - origionalMass.loc['Ti'].values[0]\n",
    "\n",
    "    return D,log,TitoAdd_percent\n",
    "\n"
   ]
  },
  {
   "cell_type": "code",
   "execution_count": 8,
   "metadata": {},
   "outputs": [
    {
     "name": "stdout",
     "output_type": "stream",
     "text": [
      "<class 'pandas.core.frame.DataFrame'>\n",
      "    Oxidation State\n",
      "Si                4\n",
      "Al                3\n",
      "Mg                2\n",
      "Ca                2\n",
      "Ti                4\n",
      "Cr                3\n",
      "Fe                2\n",
      "Mn                2\n"
     ]
    },
    {
     "data": {
      "text/plain": [
       "(0.40377481474835863,\n",
       "         Wt. %      Wt. %      At. %\n",
       " Si  23.812085  23.602412  18.446127\n",
       " Al   6.351100   6.295176   5.121205\n",
       " Mg   6.114410   6.060571   5.473272\n",
       " Ca  16.860776  16.712312   9.152958\n",
       " Ti   1.329226   2.198053   1.007936\n",
       " Cr   0.758714   0.752033   0.317466\n",
       " O   44.773689  44.379443  60.884812,\n",
       " 0.868826410032256)"
      ]
     },
     "execution_count": 8,
     "metadata": {},
     "output_type": "execute_result"
    }
   ],
   "source": [
    "calTiMetPercent(Valence=3.5)"
   ]
  },
  {
   "cell_type": "code",
   "execution_count": 9,
   "metadata": {},
   "outputs": [
    {
     "name": "stdout",
     "output_type": "stream",
     "text": [
      "<class 'pandas.core.frame.DataFrame'>\n",
      "    Oxidation State\n",
      "Si                4\n",
      "Al                3\n",
      "Mg                2\n",
      "Ca                2\n",
      "Ti                4\n",
      "Cr                3\n",
      "Fe                2\n",
      "Mn                2\n"
     ]
    },
    {
     "data": {
      "text/plain": [
       "(0.3577435029210976,\n",
       "         Wt. %      Wt. %      At. %\n",
       " Si  23.812085  23.626129  18.446127\n",
       " Al   6.351100   6.301502   5.121205\n",
       " Mg   6.114410   6.066660   5.473272\n",
       " Ca  16.860776  16.729105   9.152958\n",
       " Ti   1.329226   2.099778   0.961904\n",
       " Cr   0.758714   0.752789   0.317466\n",
       " O   44.773689  44.424037  60.884812,\n",
       " 0.7705515842348083)"
      ]
     },
     "execution_count": 9,
     "metadata": {},
     "output_type": "execute_result"
    }
   ],
   "source": [
    "calTiMetPercent(Valence=3.75)"
   ]
  },
  {
   "cell_type": "code",
   "execution_count": 10,
   "metadata": {},
   "outputs": [
    {
     "name": "stdout",
     "output_type": "stream",
     "text": [
      "<class 'pandas.core.frame.DataFrame'>\n",
      "    Oxidation State\n",
      "Si                4\n",
      "Al                3\n",
      "Mg                2\n",
      "Ca                2\n",
      "Ti                4\n",
      "Cr                3\n",
      "Fe                2\n",
      "Mn                2\n"
     ]
    },
    {
     "data": {
      "text/plain": [
       "(0.3174661050722442,\n",
       "         Wt. %      Wt. %      At. %\n",
       " Si  23.812085  23.646920  18.446127\n",
       " Al   6.351100   6.307047   5.121205\n",
       " Mg   6.114410   6.071999   5.473272\n",
       " Ca  16.860776  16.743827   9.152958\n",
       " Ti   1.329226   2.013625   0.921627\n",
       " Cr   0.758714   0.753452   0.317466\n",
       " O   44.773689  44.463130  60.884812,\n",
       " 0.6843989573874119)"
      ]
     },
     "execution_count": 10,
     "metadata": {},
     "output_type": "execute_result"
    }
   ],
   "source": [
    "calTiMetPercent(Valence=4)"
   ]
  }
 ],
 "metadata": {
  "kernelspec": {
   "display_name": "Python 3",
   "language": "python",
   "name": "python3"
  },
  "language_info": {
   "codemirror_mode": {
    "name": "ipython",
    "version": 3
   },
   "file_extension": ".py",
   "mimetype": "text/x-python",
   "name": "python",
   "nbconvert_exporter": "python",
   "pygments_lexer": "ipython3",
   "version": "3.11.1"
  },
  "orig_nbformat": 4
 },
 "nbformat": 4,
 "nbformat_minor": 2
}
