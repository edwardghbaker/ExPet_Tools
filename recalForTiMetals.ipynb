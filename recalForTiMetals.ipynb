{
 "cells": [
  {
   "cell_type": "code",
   "execution_count": 44,
   "metadata": {},
   "outputs": [],
   "source": [
    "from ChemCal_v2 import CC\n",
    "import numpy as np \n",
    "import pandas as pd"
   ]
  },
  {
   "cell_type": "code",
   "execution_count": 47,
   "metadata": {},
   "outputs": [],
   "source": [
    "data = np.array([[45.03755385,21.21894177,8.964273931,20.85766182,1.960784314,1.960784314],\n",
    "[45.48347023,21.4290303,9.053029119,21.06417332,1.98019802,0.99009901],\n",
    "[45.48347023,21.4290303,9.053029119,21.06417332,0.99009901,1.98019802],\n",
    "[45.93830493,21.64332061,9.14355941,21.27481505,1,1]])\n",
    "\n",
    "HTi_HCr = pd.DataFrame(data=data[0,:],columns=['Ox. Wt. %'],index=['SiO2','Al2O3','MgO','CaO','TiO2','Cr2O3'])\n",
    "HTi_LCr = pd.DataFrame(data=data[1,:],columns=['Ox. Wt. %'],index=['SiO2','Al2O3','MgO','CaO','TiO2','Cr2O3'])\n",
    "LTi_HCr = pd.DataFrame(data=data[2,:],columns=['Ox. Wt. %'],index=['SiO2','Al2O3','MgO','CaO','TiO2','Cr2O3'])\n",
    "LTi_LCr = pd.DataFrame(data=data[3,:],columns=['Ox. Wt. %'],index=['SiO2','Al2O3','MgO','CaO','TiO2','Cr2O3'])"
   ]
  },
  {
   "cell_type": "code",
   "execution_count": 48,
   "metadata": {},
   "outputs": [
    {
     "ename": "TypeError",
     "evalue": "CC.at2wt() missing 1 required positional argument: 'self'",
     "output_type": "error",
     "traceback": [
      "\u001b[1;31m---------------------------------------------------------------------------\u001b[0m",
      "\u001b[1;31mTypeError\u001b[0m                                 Traceback (most recent call last)",
      "Cell \u001b[1;32mIn[48], line 19\u001b[0m\n\u001b[0;32m     15\u001b[0m     log \u001b[39m=\u001b[39m pd\u001b[39m.\u001b[39mconcat([origionalMass,newMass,atomic],axis\u001b[39m=\u001b[39m\u001b[39m1\u001b[39m)\n\u001b[0;32m     17\u001b[0m     \u001b[39mreturn\u001b[39;00m D,log\n\u001b[1;32m---> 19\u001b[0m calTiMetPercent()\n",
      "Cell \u001b[1;32mIn[48], line 5\u001b[0m, in \u001b[0;36mcalTiMetPercent\u001b[1;34m(Valence, comp)\u001b[0m\n\u001b[0;32m      3\u001b[0m masses \u001b[39m=\u001b[39m CC(input_DF\u001b[39m=\u001b[39mHTi_HCr)\n\u001b[0;32m      4\u001b[0m atomic \u001b[39m=\u001b[39m masses\u001b[39m.\u001b[39mget_at()\n\u001b[1;32m----> 5\u001b[0m origionalMass \u001b[39m=\u001b[39m masses\u001b[39m.\u001b[39;49mget_wt()\n\u001b[0;32m      7\u001b[0m A \u001b[39m=\u001b[39m atomic\u001b[39m.\u001b[39mloc[\u001b[39m'\u001b[39m\u001b[39mCr\u001b[39m\u001b[39m'\u001b[39m]\u001b[39m.\u001b[39mvalues[\u001b[39m0\u001b[39m]\n\u001b[0;32m      8\u001b[0m C \u001b[39m=\u001b[39m atomic\u001b[39m.\u001b[39mloc[\u001b[39m'\u001b[39m\u001b[39mTi\u001b[39m\u001b[39m'\u001b[39m]\u001b[39m.\u001b[39mvalues[\u001b[39m0\u001b[39m]\n",
      "File \u001b[1;32mc:\\Users\\User\\Documents\\GitHub\\ExPet_Tools\\ChemCal_v2.py:162\u001b[0m, in \u001b[0;36mCC.get_wt\u001b[1;34m(self)\u001b[0m\n\u001b[0;32m    160\u001b[0m \u001b[39mdef\u001b[39;00m \u001b[39mget_wt\u001b[39m(\u001b[39mself\u001b[39m):\n\u001b[0;32m    161\u001b[0m     \u001b[39mif\u001b[39;00m \u001b[39mself\u001b[39m\u001b[39m.\u001b[39minput_DF\u001b[39m.\u001b[39mcolumns[\u001b[39m0\u001b[39m] \u001b[39m==\u001b[39m \u001b[39m'\u001b[39m\u001b[39mOx. Wt. \u001b[39m\u001b[39m%\u001b[39m\u001b[39m'\u001b[39m:\n\u001b[1;32m--> 162\u001b[0m         \u001b[39mself\u001b[39m\u001b[39m.\u001b[39mwt_DF \u001b[39m=\u001b[39m CC\u001b[39m.\u001b[39;49mat2wt(atIndex\u001b[39m=\u001b[39;49m\u001b[39mself\u001b[39;49m\u001b[39m.\u001b[39;49mat_DF\u001b[39m.\u001b[39;49mindex, \n\u001b[0;32m    163\u001b[0m                                     Atomic\u001b[39m=\u001b[39;49m\u001b[39mself\u001b[39;49m\u001b[39m.\u001b[39;49mat_DF[\u001b[39m'\u001b[39;49m\u001b[39mAt. \u001b[39;49m\u001b[39m%\u001b[39;49m\u001b[39m'\u001b[39;49m])\n\u001b[0;32m    164\u001b[0m     \u001b[39mreturn\u001b[39;00m \u001b[39mself\u001b[39m\u001b[39m.\u001b[39mwt_DF\n",
      "\u001b[1;31mTypeError\u001b[0m: CC.at2wt() missing 1 required positional argument: 'self'"
     ]
    }
   ],
   "source": [
    "\n",
    "def calTiMetPercent(Valence=3.5,comp=HTi_HCr):\n",
    "    masses = CC(input_DF=HTi_HCr)\n",
    "    atomic = masses.get_at()\n",
    "    origionalMass = masses.get_wt()\n",
    "\n",
    "    A = atomic.loc['Cr'].values[0]\n",
    "    C = atomic.loc['Ti'].values[0]\n",
    "    \n",
    "    D = A + ((4-Valence)*C)/Valence # D is now the atomic % of Ti that needs to be added to the mix to make it the correct valence.\n",
    "    atomic.loc['Ti'] += D\n",
    "\n",
    "    comvertToMass = CC(input_DF=atomic)\n",
    "    newMass = comvertToMass.get_wt()\n",
    "    log = pd.concat([origionalMass,newMass,atomic],axis=1)\n",
    "\n",
    "    return D,log\n",
    "\n",
    "calTiMetPercent()"
   ]
  },
  {
   "cell_type": "code",
   "execution_count": null,
   "metadata": {},
   "outputs": [],
   "source": []
  }
 ],
 "metadata": {
  "kernelspec": {
   "display_name": "Python 3",
   "language": "python",
   "name": "python3"
  },
  "language_info": {
   "codemirror_mode": {
    "name": "ipython",
    "version": 3
   },
   "file_extension": ".py",
   "mimetype": "text/x-python",
   "name": "python",
   "nbconvert_exporter": "python",
   "pygments_lexer": "ipython3",
   "version": "3.11.1"
  },
  "orig_nbformat": 4
 },
 "nbformat": 4,
 "nbformat_minor": 2
}
