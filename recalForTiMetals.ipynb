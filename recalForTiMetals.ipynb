{
 "cells": [
  {
   "cell_type": "code",
   "execution_count": 1,
   "metadata": {},
   "outputs": [],
   "source": [
    "from ChemCal_v2 import CC\n",
    "import numpy as np \n",
    "import pandas as pd"
   ]
  },
  {
   "cell_type": "code",
   "execution_count": 2,
   "metadata": {},
   "outputs": [],
   "source": [
    "data = np.array([[45.03755385,21.21894177,8.964273931,20.85766182,1.960784314,1.960784314],\n",
    "[45.48347023,21.4290303,9.053029119,21.06417332,1.98019802,0.99009901],\n",
    "[45.48347023,21.4290303,9.053029119,21.06417332,0.99009901,1.98019802],\n",
    "[45.93830493,21.64332061,9.14355941,21.27481505,1,1]])\n",
    "\n",
    "HTi_HCr = pd.DataFrame(data=data[0,:],columns=['Ox. Wt. %'],index=['SiO2','Al2O3','MgO','CaO','TiO2','Cr2O3'])\n",
    "HTi_LCr = pd.DataFrame(data=data[1,:],columns=['Ox. Wt. %'],index=['SiO2','Al2O3','MgO','CaO','TiO2','Cr2O3'])\n",
    "LTi_HCr = pd.DataFrame(data=data[2,:],columns=['Ox. Wt. %'],index=['SiO2','Al2O3','MgO','CaO','TiO2','Cr2O3'])\n",
    "LTi_LCr = pd.DataFrame(data=data[3,:],columns=['Ox. Wt. %'],index=['SiO2','Al2O3','MgO','CaO','TiO2','Cr2O3'])"
   ]
  },
  {
   "cell_type": "code",
   "execution_count": 3,
   "metadata": {},
   "outputs": [
    {
     "ename": "ValueError",
     "evalue": "The truth value of an array with more than one element is ambiguous. Use a.any() or a.all()",
     "output_type": "error",
     "traceback": [
      "\u001b[1;31m---------------------------------------------------------------------------\u001b[0m",
      "\u001b[1;31mValueError\u001b[0m                                Traceback (most recent call last)",
      "Cell \u001b[1;32mIn[3], line 18\u001b[0m\n\u001b[0;32m     14\u001b[0m     log \u001b[39m=\u001b[39m pd\u001b[39m.\u001b[39mconcat([origionalMass,newMass,atomic],axis\u001b[39m=\u001b[39m\u001b[39m1\u001b[39m)\n\u001b[0;32m     16\u001b[0m     \u001b[39mreturn\u001b[39;00m D,log\n\u001b[1;32m---> 18\u001b[0m calTiMetPercent()\n",
      "Cell \u001b[1;32mIn[3], line 2\u001b[0m, in \u001b[0;36mcalTiMetPercent\u001b[1;34m(Valence, comp)\u001b[0m\n\u001b[0;32m      1\u001b[0m \u001b[39mdef\u001b[39;00m \u001b[39mcalTiMetPercent\u001b[39m(Valence\u001b[39m=\u001b[39m\u001b[39m3.5\u001b[39m,comp\u001b[39m=\u001b[39mHTi_HCr):\n\u001b[1;32m----> 2\u001b[0m     masses \u001b[39m=\u001b[39m CC(input_DF\u001b[39m=\u001b[39;49mHTi_HCr)\n\u001b[0;32m      3\u001b[0m     atomic \u001b[39m=\u001b[39m masses\u001b[39m.\u001b[39mget_at()\n\u001b[0;32m      4\u001b[0m     origionalMass \u001b[39m=\u001b[39m CC(input_DF\u001b[39m=\u001b[39mHTi_HCr)\u001b[39m.\u001b[39mget_wt()\n",
      "File \u001b[1;32mc:\\Users\\User\\Documents\\GitHub\\ExPet_Tools\\ChemCal_v2.py:55\u001b[0m, in \u001b[0;36mCC.__init__\u001b[1;34m(self, input_DF, FeCharge, imposeOxidation, OxStates)\u001b[0m\n\u001b[0;32m     53\u001b[0m \u001b[39melif\u001b[39;00m input_DF\u001b[39m.\u001b[39mcolumns[\u001b[39m0\u001b[39m] \u001b[39m==\u001b[39m \u001b[39m'\u001b[39m\u001b[39mOx. Wt. \u001b[39m\u001b[39m%\u001b[39m\u001b[39m'\u001b[39m:\n\u001b[0;32m     54\u001b[0m     \u001b[39mself\u001b[39m\u001b[39m.\u001b[39mat_DF \u001b[39m=\u001b[39m CC\u001b[39m.\u001b[39mox_wt2at(\u001b[39mself\u001b[39m)\n\u001b[1;32m---> 55\u001b[0m     \u001b[39mself\u001b[39m\u001b[39m.\u001b[39mwt_DF \u001b[39m=\u001b[39m CC\u001b[39m.\u001b[39;49mat2wt(\u001b[39mself\u001b[39;49m,atIndex\u001b[39m=\u001b[39;49m\u001b[39mself\u001b[39;49m\u001b[39m.\u001b[39;49mat_DF\u001b[39m.\u001b[39;49mindex,Atomic\u001b[39m=\u001b[39;49m\u001b[39mself\u001b[39;49m\u001b[39m.\u001b[39;49mat_DF[\u001b[39m'\u001b[39;49m\u001b[39mAt. \u001b[39;49m\u001b[39m%\u001b[39;49m\u001b[39m'\u001b[39;49m])\n\u001b[0;32m     56\u001b[0m     \u001b[39mself\u001b[39m\u001b[39m.\u001b[39mox_wt_DF \u001b[39m=\u001b[39m input_DF\n\u001b[0;32m     58\u001b[0m \u001b[39melif\u001b[39;00m input_DF\u001b[39m.\u001b[39mcolumns[\u001b[39m0\u001b[39m] \u001b[39m==\u001b[39m \u001b[39m'\u001b[39m\u001b[39mAt. \u001b[39m\u001b[39m%\u001b[39m\u001b[39m'\u001b[39m:\n",
      "File \u001b[1;32mc:\\Users\\User\\Documents\\GitHub\\ExPet_Tools\\ChemCal_v2.py:115\u001b[0m, in \u001b[0;36mCC.at2wt\u001b[1;34m(self, atIndex, Atomic)\u001b[0m\n\u001b[0;32m    114\u001b[0m \u001b[39mdef\u001b[39;00m \u001b[39mat2wt\u001b[39m(\u001b[39mself\u001b[39m,atIndex\u001b[39m=\u001b[39m\u001b[39mNone\u001b[39;00m,Atomic\u001b[39m=\u001b[39m\u001b[39mNone\u001b[39;00m):\n\u001b[1;32m--> 115\u001b[0m     \u001b[39mif\u001b[39;00m atIndex \u001b[39m==\u001b[39m \u001b[39mNone\u001b[39;00m \u001b[39mor\u001b[39;00m Atomic \u001b[39m==\u001b[39m \u001b[39mNone\u001b[39;00m:\n\u001b[0;32m    116\u001b[0m         atIndex \u001b[39m=\u001b[39m \u001b[39mself\u001b[39m\u001b[39m.\u001b[39minput_DF\u001b[39m.\u001b[39mindex\n\u001b[0;32m    117\u001b[0m         Atomic \u001b[39m=\u001b[39m \u001b[39mself\u001b[39m\u001b[39m.\u001b[39minput_DF[\u001b[39m'\u001b[39m\u001b[39mAt. \u001b[39m\u001b[39m%\u001b[39m\u001b[39m'\u001b[39m]\n",
      "\u001b[1;31mValueError\u001b[0m: The truth value of an array with more than one element is ambiguous. Use a.any() or a.all()"
     ]
    }
   ],
   "source": [
    "\n",
    "def calTiMetPercent(Valence=3.5,comp=HTi_HCr):\n",
    "    masses = CC(input_DF=HTi_HCr)\n",
    "    atomic = masses.get_at()\n",
    "    origionalMass = CC(input_DF=HTi_HCr).get_wt()\n",
    "\n",
    "    A = atomic.loc['Cr'].values[0]\n",
    "    C = atomic.loc['Ti'].values[0]\n",
    "    \n",
    "    D = A + ((4-Valence)*C)/Valence # D is now the atomic % of Ti that needs to be added to the mix to make it the correct valence.\n",
    "    atomic.loc['Ti'] += D\n",
    "\n",
    "    comvertToMass = CC(input_DF=atomic)\n",
    "    newMass = comvertToMass.get_wt()\n",
    "    log = pd.concat([origionalMass,newMass,atomic],axis=1)\n",
    "\n",
    "    return D,log\n",
    "\n",
    "calTiMetPercent()"
   ]
  },
  {
   "cell_type": "code",
   "execution_count": null,
   "metadata": {},
   "outputs": [],
   "source": []
  }
 ],
 "metadata": {
  "kernelspec": {
   "display_name": "Python 3",
   "language": "python",
   "name": "python3"
  },
  "language_info": {
   "codemirror_mode": {
    "name": "ipython",
    "version": 3
   },
   "file_extension": ".py",
   "mimetype": "text/x-python",
   "name": "python",
   "nbconvert_exporter": "python",
   "pygments_lexer": "ipython3",
   "version": "3.11.1"
  },
  "orig_nbformat": 4
 },
 "nbformat": 4,
 "nbformat_minor": 2
}
